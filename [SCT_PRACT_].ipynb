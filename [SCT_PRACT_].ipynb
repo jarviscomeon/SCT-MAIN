{
  "nbformat": 4,
  "nbformat_minor": 0,
  "metadata": {
    "colab": {
      "provenance": []
    },
    "kernelspec": {
      "name": "python3",
      "display_name": "Python 3"
    },
    "language_info": {
      "name": "python"
    }
  },
  "cells": [
    {
      "cell_type": "code",
      "execution_count": 1,
      "metadata": {
        "colab": {
          "base_uri": "https://localhost:8080/"
        },
        "id": "qVRoKR6Z3Nde",
        "outputId": "a6a6bfa7-2041-44d9-a0ce-990d2823565f"
      },
      "outputs": [
        {
          "output_type": "stream",
          "name": "stdout",
          "text": [
            "Enter value of x:1\n",
            "Enter value of weight w:2\n",
            "Enter value of bias b:5\n",
            "net= 7\n",
            "output= 1\n"
          ]
        }
      ],
      "source": [
        "## [SCT PRACT 1-A ] DESIGN A SIMPLE LINEAR NEURAL NETWORK MODEL ##\n",
        "\n",
        "x=float(input(\"Enter value of x:\"))\n",
        "w=float(input(\"Enter value of weight w:\"))\n",
        "b=float(input(\"Enter value of bias b:\"))\n",
        "net = int(w*x+b)\n",
        "if(net<0):\n",
        "  out=0\n",
        "elif((net>=0)&(net<=1)):\n",
        "  out =net\n",
        "else:\n",
        "  out=1\n",
        "print(\"net=\",net)\n",
        "print(\"output=\",out)\n"
      ]
    },
    {
      "cell_type": "code",
      "source": [
        "## [PRACT 1B] CALCULATE THE OUTPUT OF NEURAL NET USING BOTH BINARY AND BIPOLAR SIGMOIDAL FUNCTION ##\n",
        "# In[1]:\n",
        "\n",
        "# number of elements as input\n",
        "n = int(input(\"Enter number of elements : \"))\n",
        "\n",
        "# In[2]:\n",
        "print(\"Enter the inputs\")\n",
        "inputs = [] # creating an empty list for inputs\n",
        "# iterating till the range\n",
        "for i in range(0, n):\n",
        "         ele = float(input())\n",
        "         inputs.append(ele) # adding the element\n",
        "print(inputs)\n",
        "\n",
        "# In[3]:\n",
        "print(\"Enter the weights\")\n",
        "# creating an empty list for weights\n",
        "weights = []\n",
        "# iterating till the range\n",
        "for i in range(0, n):\n",
        "         ele = float(input())\n",
        "         weights.append(ele) # adding the element\n",
        "print(weights)\n",
        "\n",
        "# In[4]:\n",
        "print(\"The net input can be calculated as Yin = x1w1 + x2w2 + x3w3\")\n",
        "\n",
        "# In[5]:\n",
        "Yin = []\n",
        "for i in range(0, n):\n",
        "         Yin.append(inputs[i]*weights[i])\n",
        "print(round(sum(Yin),3))\n"
      ],
      "metadata": {
        "colab": {
          "base_uri": "https://localhost:8080/"
        },
        "id": "nsgSUrJbDSNW",
        "outputId": "4fc5fd3d-2966-4004-a529-9320116e90d0"
      },
      "execution_count": 4,
      "outputs": [
        {
          "output_type": "stream",
          "name": "stdout",
          "text": [
            "Enter number of elements : 2\n",
            "Enter the inputs\n",
            "1\n",
            "2\n",
            "[1.0, 2.0]\n",
            "Enter the weights\n",
            "5\n",
            "5\n",
            "[5.0, 5.0]\n",
            "The net input can be calculated as Yin = x1w1 + x2w2 + x3w3\n",
            "15.0\n"
          ]
        }
      ]
    },
    {
      "cell_type": "code",
      "source": [
        "## [SCT PRACT 2A] GENERATE AND/NOT FUNCTION USING MCCULLOCH-PITTS NEURAL NET ##\n",
        "num_ip = int(input(\"Enter the number of inputs : \"))\n",
        "w1 = 1\n",
        "w2 = 1\n",
        "print(\"For the \", num_ip , \" inputs calculate the net input using yin = x1w1 + x2w2 \")\n",
        "x1 = []\n",
        "x2 = []\n",
        "for j in range(0, num_ip):\n",
        "  ele1 = int(input(\"x1 = \"))\n",
        "  ele2 = int(input(\"x2 = \"))\n",
        "  x1.append(ele1)\n",
        "  x2.append(ele2)\n",
        "print(\"x1 = \",x1)\n",
        "print(\"x2 = \",x2)\n",
        "n = x1 * w1\n",
        "m = x2 * w2\n",
        "Yin = []\n",
        "for i in range(0, num_ip):\n",
        "  Yin.append(n[i] + m[i])\n",
        "print(\"Yin = \",Yin)\n",
        "#Assume one weight as excitatory and the other as inhibitory, i.e.,\n",
        "Yin = []\n",
        "for i in range(0, num_ip):\n",
        "  Yin.append(n[i] - m[i])\n",
        "print(\"After assuming one weight as excitatory and the other as inhibitory Yin = \",Yin)\n",
        "#From the calculated net inputs, now it is possible to fire the neuron for input (1, 0)\n",
        "#only by fixing a threshold of 1, i.e., θ ≥ 1 for Y unit.\n",
        "#Thus, w1 = 1, w2 = -1; θ ≥ 1\n",
        "Y=[]\n",
        "for i in range(0, num_ip):\n",
        "  if(Yin[i]>=1):\n",
        "    ele = 1\n",
        "    Y.append(ele)\n",
        "  if(Yin[i]<1):\n",
        "    ele = 0\n",
        "    Y.append(ele)\n",
        "print(\"Y = \",Y)\n"
      ],
      "metadata": {
        "colab": {
          "base_uri": "https://localhost:8080/"
        },
        "id": "x4Kvv-akCley",
        "outputId": "a970bb62-f9b7-498c-94da-86a859443097"
      },
      "execution_count": 5,
      "outputs": [
        {
          "output_type": "stream",
          "name": "stdout",
          "text": [
            "Enter the number of inputs : 2\n",
            "For the  2  inputs calculate the net input using yin = x1w1 + x2w2 \n",
            "x1 = 1\n",
            "x2 = 1\n",
            "x1 = 2\n",
            "x2 = 2\n",
            "x1 =  [1, 2]\n",
            "x2 =  [1, 2]\n",
            "Yin =  [2, 4]\n",
            "After assuming one weight as excitatory and the other as inhibitory Yin =  [0, 0]\n",
            "Y =  [0, 0]\n"
          ]
        }
      ]
    },
    {
      "cell_type": "code",
      "source": [
        "## [SCT PRACT 2B] GENERATE XOR FUNCTION USING MCCULLOCH-PITTS NEURAL NET ##\n",
        "import numpy as np\n",
        "print('Enter weights')\n",
        "w11=int(input('Weight w11='))\n",
        "w12=int(input('weight w12='))\n",
        "w21=int(input('Weight w21='))\n",
        "w22=int(input('weight w22='))\n",
        "v1=int(input('weight v1='))\n",
        "v2=int(input('weight v2='))\n",
        "print('Enter Threshold Value')\n",
        "theta=int(input('theta='))\n",
        "x1=np.array([0, 0, 1, 1])\n",
        "x2=np.array([0, 1, 0, 1])\n",
        "z=np.array([0, 1, 1, 0])\n",
        "con=1\n",
        "y1=np.zeros((4,))\n",
        "y2=np.zeros((4,))\n",
        "y=np.zeros((4,))\n",
        "while con==1:\n",
        "    zin1=np.zeros((4,))\n",
        "    zin2=np.zeros((4,))\n",
        "    zin1=x1*w11+x2*w21\n",
        "    zin2=x1*w21+x2*w22\n",
        "\n",
        "    print(\"z1\",zin1)\n",
        "    print(\"z2\",zin2)\n",
        "\n",
        "    for i in range(0,4):\n",
        "        if zin1[i]>=theta:\n",
        "            y1[i]=1\n",
        "        else:\n",
        "            y1[i]=0\n",
        "\n",
        "        if zin2[i]>=theta:\n",
        "            y2[i]=1\n",
        "        else:\n",
        "            y2[i]=0\n",
        "\n",
        "    yin=np.array([])\n",
        "    yin=y1*v1+y2*v2\n",
        "\n",
        "    for i in range(0,4):\n",
        "        if yin[i]>=theta:\n",
        "            y[i]=1\n",
        "        else:\n",
        "            y[i]=0\n",
        "\n",
        "    print(\"yin\",yin)\n",
        "    print('Output of Net')\n",
        "    y=y.astype(int)\n",
        "    print(\"y\",y)\n",
        "    print(\"z\",z)\n",
        "    if np.array_equal(y,z):\n",
        "        con=0\n",
        "    else:\n",
        "        print(\"Net is not learning enter another set of weights and Threshold value\")\n",
        "        w11=input(\"Weight w11=\")\n",
        "        w12=input(\"weight w12=\")\n",
        "        w21=input(\"Weight w21=\")\n",
        "        w22=input(\"weight w22=\")\n",
        "        v1=input(\"weight v1=\")\n",
        "        v2=input(\"weight v2=\")\n",
        "        theta=input(\"theta=\")\n",
        "\n",
        "print(\"McCulloch-Pitts Net for XOR function\")\n",
        "print(\"Weights of Neuron Z1\")\n",
        "print(w11)\n",
        "print(w21)\n",
        "print(\"weights of Neuron Z2\")\n",
        "print(w12)\n",
        "print(w22)\n",
        "print(\"weights of Neuron Y\")\n",
        "print(v1)\n",
        "print(v2)\n",
        "print(\"Threshold value\")\n",
        "print(theta)\n",
        "####################################\n",
        "# INPUTS ARE FIXED \n",
        "# Enter weights\n",
        "# Weight w11=1\n",
        "# weight w12=-1\n",
        "# Weight w21=-1\n",
        "# weight w22=1\n",
        "# weight v1=1\n",
        "# weight v2=1\n",
        "# Enter Threshold Value\n",
        "# theta=1"
      ],
      "metadata": {
        "id": "mrzyomLABWHH",
        "colab": {
          "base_uri": "https://localhost:8080/"
        },
        "outputId": "883d713a-d94c-4c90-fb96-939cda41b59f"
      },
      "execution_count": 22,
      "outputs": [
        {
          "output_type": "stream",
          "name": "stdout",
          "text": [
            "Enter weights\n",
            "Weight w11=1\n",
            "weight w12=-1\n",
            "Weight w21=-1\n",
            "weight w22=1\n",
            "weight v1=1\n",
            "weight v2=1\n",
            "Enter Threshold Value\n",
            "theta=1\n",
            "z1 [ 0 -1  1  0]\n",
            "z2 [ 0  1 -1  0]\n",
            "yin [0. 1. 1. 0.]\n",
            "Output of Net\n",
            "y [0 1 1 0]\n",
            "z [0 1 1 0]\n",
            "McCulloch-Pitts Net for XOR function\n",
            "Weights of Neuron Z1\n",
            "1\n",
            "-1\n",
            "weights of Neuron Z2\n",
            "-1\n",
            "1\n",
            "weights of Neuron Y\n",
            "1\n",
            "1\n",
            "Threshold value\n",
            "1\n"
          ]
        }
      ]
    },
    {
      "cell_type": "code",
      "source": [
        "## [SCT PRACT 3A] WRITE A PROGRAM TO IMPLEMENT HEBB’S RULE ##\n",
        "import numpy as np\n",
        "#first pattern\n",
        "x1=np.array([1,1,1,-1,1,-1,1,1,1])\n",
        "#second pattern\n",
        "x2=np.array([1,1,1,1,-1,1,1,1,1])\n",
        "#initialize bais value\n",
        "b=0\n",
        "#define target\n",
        "y=np.array([1,-1])\n",
        "wtold=np.zeros((9,))\n",
        "wtnew=np.zeros((9,))\n",
        "wtnew=wtnew.astype(int)\n",
        "wtold=wtold.astype(int)\n",
        "bais=0\n",
        "print(\"First input with target =1\")\n",
        "for i in range(0,9):\n",
        "  wtold[i]=wtold[i]+x1[i]*y[0]\n",
        "wtnew=wtold\n",
        "b=b+y[0]\n",
        "print(\"new wt =\", wtnew)\n",
        "print(\"Bias value\",b)\n",
        "print(\"Second input with target =-1\")\n",
        "for i in range(0,9):\n",
        "  wtnew[i]=wtold[i]+x2[i]*y[1]\n",
        "b=b+y[1]\n",
        "print(\"new wt =\", wtnew)\n",
        "print(\"Bias value\",b)\n"
      ],
      "metadata": {
        "colab": {
          "base_uri": "https://localhost:8080/"
        },
        "id": "TWvLB7GUFHxo",
        "outputId": "818f3a2b-e268-4c94-9e7e-b20d67179d35"
      },
      "execution_count": 7,
      "outputs": [
        {
          "output_type": "stream",
          "name": "stdout",
          "text": [
            "First input with target =1\n",
            "new wt = [ 1  1  1 -1  1 -1  1  1  1]\n",
            "Bias value 1\n",
            "Second input with target =-1\n",
            "new wt = [ 0  0  0 -2  2 -2  0  0  0]\n",
            "Bias value 0\n"
          ]
        }
      ]
    },
    {
      "cell_type": "code",
      "source": [
        "## [SCT PRACT 3B] WRITE A PROGRAM TO IMPLEMENT OF DELTA RULE ##\n",
        "#supervised learning\n",
        "import numpy as np\n",
        "import time\n",
        "np.set_printoptions(precision=2)\n",
        "x=np.zeros((3,))\n",
        "weights=np.zeros((3,))\n",
        "desired=np.zeros((3,))\n",
        "actual=np.zeros((3,))\n",
        "for i in range(0,3):\n",
        "  x[i]=float(input(\"Initial inputs:\"))\n",
        "for i in range(0,3):\n",
        "  weights[i]=float(input(\"Initial weights:\"))\n",
        "for i in range(0,3):\n",
        "  desired[i]=float(input(\"Desired output:\"))\n",
        "a=float(input(\"Enter learning rate:\"))\n",
        "actual=x*weights\n",
        "print(\"actual\",actual)\n",
        "print(\"desired\",desired)\n",
        "while True:\n",
        "  if np.array_equal(desired,actual):\n",
        "    break #no change\n",
        "else:\n",
        "  for i in range(0,3):\n",
        "    weights[i]=weights[i]+a*(desired[i]-actual[i])\n",
        "    actual=x*weights\n",
        "print(\"weights\",weights)\n",
        "print(\"actual\",actual)\n",
        "print(\"desired\",desired)\n",
        "print(\"*\"*30)\n",
        "print(\"Final output\")\n",
        "print(\"Corrected weights\",weights)\n",
        "print(\"actual\",actual)\n",
        "print(\"desired\",desired)\n",
        "####################################\n",
        "# INPUTS ARE FIXED =\n",
        "# Initial inputs:1\n",
        "# Initial inputs:1\n",
        "# Initial inputs:1\n",
        "# Initial weights:1\n",
        "# Initial weights:1\n",
        "# Initial weights:1\n",
        "# Desired output:1\n",
        "# Desired output:1\n",
        "# Desired output:1\n",
        "# Enter learning rate:1\n"
      ],
      "metadata": {
        "colab": {
          "base_uri": "https://localhost:8080/"
        },
        "id": "4jJBHo2Wflh9",
        "outputId": "b323d363-755e-424f-c079-58a303e1c899"
      },
      "execution_count": 23,
      "outputs": [
        {
          "output_type": "stream",
          "name": "stdout",
          "text": [
            "Initial inputs:1\n",
            "Initial inputs:1\n",
            "Initial inputs:1\n",
            "Initial weights:1\n",
            "Initial weights:1\n",
            "Initial weights:1\n",
            "Desired output:1\n",
            "Desired output:1\n",
            "Desired output:1\n",
            "Enter learning rate:1\n",
            "actual [1. 1. 1.]\n",
            "desired [1. 1. 1.]\n",
            "weights [1. 1. 1.]\n",
            "actual [1. 1. 1.]\n",
            "desired [1. 1. 1.]\n",
            "******************************\n",
            "Final output\n",
            "Corrected weights [1. 1. 1.]\n",
            "actual [1. 1. 1.]\n",
            "desired [1. 1. 1.]\n"
          ]
        }
      ]
    },
    {
      "cell_type": "code",
      "source": [
        "## [SCT PRACT 4A] WRITE A PROGRAM FOR BACK PROPAGATION ALGORITHM ##\n",
        "import numpy as np\n",
        "import decimal\n",
        "import math\n",
        "np.set_printoptions(precision=2)\n",
        "v1=np.array([0.6, 0.3])\n",
        "v2=np.array([-0.1, 0.4])\n",
        "w=np.array([-0.2,0.4,0.1])\n",
        "b1=0.3\n",
        "b2=0.5\n",
        "x1=0\n",
        "x2=1\n",
        "alpha=0.25\n",
        "print(\"calculate net input to z1 layer\")\n",
        "zin1=round(b1+ x1*v1[0]+x2*v2[0],4)\n",
        "print(\"z1=\",round(zin1,3))\n",
        "print(\"calculate net input to z2 layer\")\n",
        "zin2=round(b2+ x1*v1[1]+x2*v2[1],4)\n",
        "print(\"z2=\",round(zin2,4))\n",
        "print(\"Apply activation function to calculate output\")\n",
        "z1=1/(1+math.exp(-zin1))\n",
        "z1=round(z1,4)\n",
        "z2=1/(1+math.exp(-zin2))\n",
        "z2=round(z2,4)\n",
        "print(\"z1=\",z1)\n",
        "print(\"z2=\",z2)\n",
        "print(\"calculate net input to output layer\")\n",
        "yin=w[0]+z1*w[1]+z2*w[2]\n",
        "print(\"yin=\",yin)\n",
        "print(\"calculate net output\")\n",
        "y=1/(1+math.exp(-yin))\n",
        "print(\"y=\",y)\n",
        "fyin=y *(1- y)\n",
        "dk=(1-y)*fyin\n",
        "print(\"dk\",dk)\n",
        "dw1= alpha * dk * z1\n",
        "dw2= alpha * dk * z2\n",
        "dw0= alpha * dk\n",
        "print(\"compute error portion in delta\")\n",
        "din1=dk* w[1]\n",
        "din2=dk* w[2]\n",
        "print(\"din1=\",din1)\n",
        "print(\"din2=\",din2)\n",
        "print(\"error in delta\")\n",
        "fzin1= z1 *(1-z1)\n",
        "print(\"fzin1\",fzin1)\n",
        "d1=din1* fzin1\n",
        "fzin2= z2 *(1-z2)\n",
        "print(\"fzin2\",fzin2)\n",
        "d2=din2* fzin2\n",
        "print(\"d1=\",d1)\n",
        "print(\"d2=\",d2)\n",
        "print(\"Changes in weights between input and hidden layer\")\n",
        "dv11=alpha * d1 * x1\n",
        "print(\"dv11=\",dv11)\n",
        "dv21=alpha * d1 * x2\n",
        "print(\"dv21=\",dv21)\n",
        "dv01=alpha * d1\n",
        "print(\"dv01=\",dv01)\n",
        "dv12=alpha * d2 * x1\n",
        "print(\"dv12=\",dv12)\n",
        "dv22=alpha * d2 * x2\n",
        "print(\"dv22=\",dv22)\n",
        "dv02=alpha * d2\n",
        "print(\"dv02=\",dv02)\n",
        "print(\"Final weights of network\")\n",
        "v1[0]=v1[0]+dv11\n",
        "v1[1]=v1[1]+dv12\n",
        "print(\"v=\",v1)\n",
        "v2[0]=v2[0]+dv21\n",
        "v2[1]=v2[1]+dv22\n",
        "print(\"v2\",v2)\n",
        "w[1]=w[1]+dw1\n",
        "w[2]=w[2]+dw2\n",
        "b1=b1+dv01\n",
        "b2=b2+dv02\n",
        "w[0]=w[0]+dw0\n",
        "print(\"w=\",w)\n",
        "print(\"bias b1=\",b1, \" b2=\",b2)\n"
      ],
      "metadata": {
        "colab": {
          "base_uri": "https://localhost:8080/"
        },
        "id": "CpcogCfugY-a",
        "outputId": "a36ad20a-2c23-4221-dfd0-d1c26314c63b"
      },
      "execution_count": 14,
      "outputs": [
        {
          "output_type": "stream",
          "name": "stdout",
          "text": [
            "calculate net input to z1 layer\n",
            "z1= 0.2\n",
            "calculate net input to z2 layer\n",
            "z2= 0.9\n",
            "Apply activation function to calculate output\n",
            "z1= 0.5498\n",
            "z2= 0.7109\n",
            "calculate net input to output layer\n",
            "yin= 0.09101\n",
            "calculate net output\n",
            "y= 0.5227368084248941\n",
            "dk 0.11906907074145694\n",
            "compute error portion in delta\n",
            "din1= 0.04762762829658278\n",
            "din2= 0.011906907074145694\n",
            "error in delta\n",
            "fzin1 0.24751996\n",
            "fzin2 0.20552119000000002\n",
            "d1= 0.011788788650865037\n",
            "d2= 0.0024471217110978417\n",
            "Changes in weights between input and hidden layer\n",
            "dv11= 0.0\n",
            "dv21= 0.0029471971627162592\n",
            "dv01= 0.0029471971627162592\n",
            "dv12= 0.0\n",
            "dv22= 0.0006117804277744604\n",
            "dv02= 0.0006117804277744604\n",
            "Final weights of network\n",
            "v= [0.6 0.3]\n",
            "v2 [-0.1  0.4]\n",
            "w= [-0.17  0.42  0.12]\n",
            "bias b1= 0.30294719716271623  b2= 0.5006117804277744\n"
          ]
        }
      ]
    },
    {
      "cell_type": "code",
      "source": [
        "## [SCT PRACT 4B] WRITE A PROGRAM FOR ERROR BACK PROPAGATION ALGORITHM (EBPA)LEARNING ##\n",
        "import math\n",
        "a0=-1\n",
        "t=-1\n",
        "w10=float(input(\"Enter weight first network\"))\n",
        "b10=float(input(\"Enter base first network:\"))\n",
        "w20=float(input(\"Enter weight second network:\"))\n",
        "b20=float(input(\"Enter base second network:\"))\n",
        "c=float(input(\"Enter learning coefficient:\"))\n",
        "n1=float(w10*c+b10)\n",
        "a1=math.tanh(n1)\n",
        "n2=float(w20*a1+b20)\n",
        "a2=math.tanh(float(n2))\n",
        "e=t-a2\n",
        "s2=-2*(1-a2*a2)*e\n",
        "s1=(1-a1*a1)*w20*s2\n",
        "w21=w20-(c*s2*a1)\n",
        "w11=w10-(c*s1*a0)\n",
        "b21=b20-(c*s2)\n",
        "b11=b10-(c*s1)\n",
        "print(\"The updated weight of first n/w w11=\",w11)\n",
        "print(\"The uploaded weight of second n/w w21= \",w21)\n",
        "print(\"The updated base of first n/w b10=\",b10)\n",
        "print(\"The updated base of second n/w b20= \",b20)\n",
        "1"
      ],
      "metadata": {
        "colab": {
          "base_uri": "https://localhost:8080/"
        },
        "id": "bfoHbzoRhFwO",
        "outputId": "3765c847-416f-4981-8f16-4d29258f4ea6"
      },
      "execution_count": 15,
      "outputs": [
        {
          "output_type": "stream",
          "name": "stdout",
          "text": [
            "Enter weight first network1\n",
            "Enter base first network:1\n",
            "Enter weight second network:1\n",
            "Enter base second network:1\n",
            "Enter learning coefficient:1\n",
            "The updated weight of first n/w w11= 1.0209850684540938\n",
            "The uploaded weight of second n/w w21=  0.7136596097558607\n",
            "The updated base of first n/w b10= 1.0\n",
            "The updated base of second n/w b20=  1.0\n"
          ]
        }
      ]
    },
    {
      "cell_type": "code",
      "source": [
        "## [SCT PRACT 5A] WRITE A PROGRAM FOR HOPFIELD NETWORK ##\n",
        "import numpy as np\n",
        "\n",
        "class HopfieldNetwork:\n",
        "    def __init__(self, patterns):\n",
        "        self.weights = np.zeros((len(patterns[0]), len(patterns[0])))\n",
        "        for pattern in patterns:\n",
        "            self.weights += np.outer(pattern, pattern)\n",
        "        np.fill_diagonal(self.weights, 0)\n",
        "\n",
        "    def update_neuron(self, neuron_index, state):\n",
        "        return np.sign(np.dot(self.weights[neuron_index], state))\n",
        "\n",
        "    def update_state(self, state):\n",
        "        for i in range(len(state)):\n",
        "            state[i] = self.update_neuron(i, state)\n",
        "        return state\n",
        "\n",
        "    def set_initial_state(self, state):\n",
        "        self.current_state = state\n",
        "\n",
        "    def get_current_state(self):\n",
        "        return self.current_state\n",
        "\n",
        "if __name__ == \"__main__\":\n",
        "    patterns = [[1, 1, -1, -1], [-1, 1, -1, 1]]\n",
        "    network = HopfieldNetwork(patterns)\n",
        "\n",
        "    initial_state = [1, -1, -1, 1]\n",
        "    network.set_initial_state(initial_state)\n",
        "\n",
        "    for _ in range(10):\n",
        "        network.update_state(network.get_current_state())\n",
        "    \n",
        "    final_state = network.get_current_state()\n",
        "    print(\"Final state of the network: \", final_state)\n"
      ],
      "metadata": {
        "colab": {
          "base_uri": "https://localhost:8080/"
        },
        "id": "XnSZhLE9hYFX",
        "outputId": "d6d7eb15-8dbf-44d0-96f7-2733cd1c99be"
      },
      "execution_count": 16,
      "outputs": [
        {
          "output_type": "stream",
          "name": "stdout",
          "text": [
            "Final state of the network:  [-1.0, 1.0, -1.0, 1.0]\n"
          ]
        }
      ]
    },
    {
      "cell_type": "code",
      "source": [
        "## [SCT PRACT 6B] ADAPTIVE RESONANCE THEORY ##\n",
        "import numpy as np\n",
        "class ART:\n",
        "  def __init__(self, vigilance_parameter, input_vectors):\n",
        "    self.vigilance_parameter = vigilance_parameter\n",
        "    self.input_vectors = input_vectors\n",
        "    self.prototypes = []\n",
        "  def compare_vectors(self, input_vector, prototype):\n",
        "    match = np.dot(input_vector, prototype) / (np.linalg.norm(input_vector) * np.linalg.norm(prototype))\n",
        "    return match\n",
        "  def create_prototype(self, input_vector):\n",
        "    return input_vector / np.linalg.norm(input_vector)\n",
        "  def compare_with_prototypes(self, input_vector):\n",
        "    max_match = 0\n",
        "    max_match_index = -1\n",
        "    for index, prototype in enumerate(self.prototypes):\n",
        "      match = self.compare_vectors(input_vector, prototype)\n",
        "      if match > max_match:\n",
        "         max_match = match\n",
        "         max_match_index = index\n",
        "    return max_match, max_match_index\n",
        "  def adapt_prototype(self, input_vector, prototype):\n",
        "    return prototype + (input_vector - prototype)\n",
        "  def train(self):\n",
        "    for input_vector in self.input_vectors:\n",
        "      match, match_index = self.compare_with_prototypes(input_vector)\n",
        "      if match < self.vigilance_parameter:\n",
        "        self.prototypes.append(self.create_prototype(input_vector))\n",
        "      else:\n",
        "          self.prototypes[match_index] = self.adapt_prototype(input_vector, self.prototypes[match_index])\n",
        "  def classify(self, input_vector):\n",
        "    match, match_index = self.compare_with_prototypes(input_vector)\n",
        "    if match < self.vigilance_parameter:\n",
        "       return None\n",
        "    else:\n",
        "       return match_index\n",
        "if __name__ == \"__main__\":\n",
        "   input_vectors = [[0.5, 0.5], [0.6, 0.6], [0.7, 0.7], [0.8, 0.9], [0.9, 0.8]]\n",
        "   vigilance_parameter = 0.8\n",
        "   art = ART(vigilance_parameter, input_vectors)\n",
        "   art.train()\n",
        "   result = art.classify([0.6, 0.6])\n",
        "   if result is None:\n",
        "      print(\"Input vector does not match any prototype.\")\n",
        "   else:\n",
        "      print(\"Input vector belongs to cluster\", result)\n"
      ],
      "metadata": {
        "colab": {
          "base_uri": "https://localhost:8080/"
        },
        "id": "DvXm5Gi-iBxW",
        "outputId": "d58c54a3-8adc-49de-895f-4dd3f2ab567d"
      },
      "execution_count": 17,
      "outputs": [
        {
          "output_type": "stream",
          "name": "stdout",
          "text": [
            "Input vector belongs to cluster 0\n"
          ]
        }
      ]
    },
    {
      "cell_type": "code",
      "source": [
        "## [SCT PRACT 8A] MEMBERSHIP AND IDENTITY OPERATORS IN, NOT IN ##\n",
        "# Membership operator 'in'\n",
        "def check_membership(value, container):\n",
        "  if value in container:\n",
        "    print(value, \"is in the container.\")\n",
        "  else:\n",
        "   print(value, \"is not in the container.\")\n",
        "# Membership operator 'not in'\n",
        "def check_not_membership(value, container):\n",
        "  if value not in container:\n",
        "    print(value, \"is not in the container.\")\n",
        "  else:\n",
        "    print(value, \"is in the container.\")\n",
        "if __name__ == \"__main__\":\n",
        "  container = [1, 2, 3, 4, 5]\n",
        "value = 3\n",
        "check_membership(value, container) # 3 is in the container.\n",
        "check_not_membership(6, container) # 6 is not in the container.\n"
      ],
      "metadata": {
        "colab": {
          "base_uri": "https://localhost:8080/"
        },
        "id": "LxINyiS-ijOP",
        "outputId": "2825bd66-5c8f-40c2-db70-5b733e690844"
      },
      "execution_count": 18,
      "outputs": [
        {
          "output_type": "stream",
          "name": "stdout",
          "text": [
            "3 is in the container.\n",
            "6 is not in the container.\n"
          ]
        }
      ]
    },
    {
      "cell_type": "code",
      "source": [
        "## [SCT PRACT 8B] MEMBERSHIP AND IDENTITY OPERATORS IS, IS NOT ##\n",
        "# Identity operator 'is'\n",
        "def check_identity(value1, value2):\n",
        "  if value1 is value2:\n",
        "    print(value1, \"and\", value2, \"have the same identity.\")\n",
        "  else:\n",
        "    print(value1, \"and\", value2, \"do not have the same identity.\")\n",
        "# Identity operator 'is not'\n",
        "def check_not_identity(value1, value2):\n",
        "  if value1 is not value2:\n",
        "    print(value1, \"and\", value2, \"do not have the same identity.\")\n",
        "  else:\n",
        "    print(value1, \"and\", value2, \"have the same identity.\")\n",
        "if __name__ == \"__main__\":\n",
        "  value1 = [1, 2, 3]\n",
        "value2 = [1, 2, 3]\n",
        "check_identity(value1, value2) # [1, 2, 3] and [1, 2, 3] do not have the same identity.\n",
        "check_not_identity(value1, value2) # [1, 2, 3] and [1, 2, 3] do not have the same identity.\n",
        "value2 = value1\n",
        "check_identity(value1, value2) # [1, 2, 3] and [1, 2, 3] have the same identity.\n",
        "check_not_identity(value1, value2) # [1, 2, 3] and [1, 2, 3] have the same identity.\n"
      ],
      "metadata": {
        "colab": {
          "base_uri": "https://localhost:8080/"
        },
        "id": "-u-XslxzjAOM",
        "outputId": "e602d48a-1133-4d5c-9ee3-1b28fed2aabd"
      },
      "execution_count": 19,
      "outputs": [
        {
          "output_type": "stream",
          "name": "stdout",
          "text": [
            "[1, 2, 3] and [1, 2, 3] do not have the same identity.\n",
            "[1, 2, 3] and [1, 2, 3] do not have the same identity.\n",
            "[1, 2, 3] and [1, 2, 3] have the same identity.\n",
            "[1, 2, 3] and [1, 2, 3] have the same identity.\n"
          ]
        }
      ]
    }
  ]
}